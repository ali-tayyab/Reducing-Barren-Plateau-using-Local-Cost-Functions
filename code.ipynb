{
 "cells": [
  {
   "cell_type": "markdown",
   "id": "594d3cb9",
   "metadata": {},
   "source": [
    "### Tayyab Ali"
   ]
  },
  {
   "cell_type": "markdown",
   "id": "71dec287",
   "metadata": {},
   "source": []
  }
 ],
 "metadata": {
  "language_info": {
   "name": "python"
  }
 },
 "nbformat": 4,
 "nbformat_minor": 5
}
